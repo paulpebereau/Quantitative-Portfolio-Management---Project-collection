{
 "cells": [
  {
   "cell_type": "markdown",
   "metadata": {},
   "source": [
    "# QPM : Assignement 4"
   ]
  },
  {
   "cell_type": "markdown",
   "metadata": {},
   "source": [
    "## Librairies"
   ]
  },
  {
   "cell_type": "code",
   "execution_count": 1,
   "metadata": {},
   "outputs": [],
   "source": [
    "import numpy as np\n",
    "import pandas as pd\n",
    "import yfinance as yf\n",
    "import matplotlib.pyplot as plt\n",
    "from scipy.optimize import minimize"
   ]
  },
  {
   "cell_type": "markdown",
   "metadata": {},
   "source": [
    "## Functions"
   ]
  },
  {
   "cell_type": "code",
   "execution_count": 2,
   "metadata": {},
   "outputs": [],
   "source": [
    "'''\n",
    "Function get_multi_timeseries:\n",
    "\n",
    "Returns the full time series of price metrics (Open, High, Low, Close, Adj Close, Volume, etc.)\n",
    "for a list of given stock tickers, over a specified time period and interval.\n",
    "\n",
    "Inputs:\n",
    "    - list_underlying: list of str ; tickers of the desired stocks.\n",
    "    - startd / endd: str ; start and end dates (inclusive) defining the time range to retrieve, in format \"YYYY-MM-DD\" \n",
    "\n",
    "Output:\n",
    "    - DataFrame with:\n",
    "        - index: pandas Timestamps (dates in ascending order),\n",
    "        - columns: MultiIndex with first level = metrics (e.g., \"Close\"), \n",
    "                   second level = stock tickers.\n",
    "\n",
    "\n",
    "Function: annual_mean_returns ; annual_volatility ; sharpe_ratio\n",
    "\n",
    "Returns the annual mean, return and sharpe ratio of each stocks.\n",
    "\n",
    "Input: - df: DataFrame (float) ; DataFrame of time series of close price of each stocks.\n",
    "\n",
    "Output: DataFrame (float) ; 1 column, indexed by the stocks tickers.\n",
    "'''\n",
    "\n",
    "def get_multi_timeseries(list_underlying,startd,endd):\n",
    "    return yf.download(list_underlying,interval=\"1d\",start=startd,end=endd)\n",
    "\n",
    "def annual_mean_return(df) :\n",
    "    return df.mean() * 252\n",
    "\n",
    "def annual_volatility(df) :\n",
    "    return df.std() * np.sqrt(252)\n",
    "\n",
    "def sharpe_ratio(df) :\n",
    "    return annual_mean_return(df) / annual_volatility(df)"
   ]
  },
  {
   "cell_type": "code",
   "execution_count": 3,
   "metadata": {},
   "outputs": [],
   "source": [
    "def expected_ret_cov(rets):\n",
    "    \"\"\"\n",
    "    Computes the expected returns and the covariance matrix of asset returns.\n",
    "    \n",
    "    Parameters:\n",
    "        rets (DataFrame): Historical returns of the assets.\n",
    "\n",
    "    Returns:\n",
    "        expected_returns (Series): Mean return of each asset.\n",
    "        cov_matrix (DataFrame): Covariance matrix of asset returns.\n",
    "    \"\"\"\n",
    "    expected_returns=rets.mean()\n",
    "    cov_matrix=rets.cov()\n",
    "    return expected_returns,cov_matrix\n",
    "\n",
    "def calculate_mvp_portfolio(ret, ret_level):\n",
    "    \"\"\"\n",
    "    Computes the weights of the Mean-Variance (target return) portfolio,\n",
    "    given a target return level. The optimization minimizes portfolio volatility \n",
    "    subject to:\n",
    "        - full investment constraint (sum of weights = 1)\n",
    "        - expected portfolio return equals target return\n",
    "        - no short selling (weights between 0 and 1)\n",
    "\n",
    "    Parameters:\n",
    "        ret (DataFrame): Historical asset returns.\n",
    "        ret_level (float): Target annualized return for the portfolio.\n",
    "\n",
    "    Returns:\n",
    "        list: Optimal weights for the MVP portfolio.\n",
    "    \"\"\"\n",
    "    # Objective function: annualized portfolio volatility\n",
    "    def find_port_variance(weights):\n",
    "        cov = ret.cov()\n",
    "        port_var = np.sqrt(np.dot(weights.T, np.dot(cov, weights)) * 12)\n",
    "        return port_var\n",
    "\n",
    "    # Constraint: weights must sum to 1\n",
    "    def weight_cons(weights):\n",
    "        return np.sum(weights) - 1\n",
    "    \n",
    "    # Constraint: expected portfolio return equals the target level\n",
    "    def expected_ret(weights) :\n",
    "        return np.mean(np.dot(ret.mean().values, weights)) - ret_level\n",
    "\n",
    "    # Bounds: no short-selling (weights between 0 and 1)\n",
    "    bounds_lim = [(0, 1) for x in range(len(ret.columns))]\n",
    "    # Initial guess: equal-weighted portfolio \n",
    "    init = [1/len(ret.columns) for i in range(len(ret.columns))]\n",
    "    # Constraints for the optimizer\n",
    "    constraint = [{'type': 'eq', 'fun': weight_cons},\n",
    "                  {'type': 'eq', 'fun': expected_ret}]\n",
    "    # Optimization using SLSQP method\n",
    "    optimal = minimize(fun=find_port_variance,\n",
    "                       x0=init,\n",
    "                       bounds=bounds_lim,\n",
    "                       constraints=constraint,\n",
    "                       method='SLSQP'\n",
    "                       )\n",
    "\n",
    "    return list(optimal['x'])\n",
    "\n",
    "def calculate_gmv_portfolio(ret):\n",
    "    \"\"\"\n",
    "    Computes the weights of the Global Minimum Variance (GMV) portfolio.\n",
    "    The optimization minimizes portfolio volatility subject to:\n",
    "        - full investment constraint (sum of weights = 1)\n",
    "        - no short selling (weights between 0 and 1)\n",
    "\n",
    "    Parameters:\n",
    "        ret (DataFrame): Historical asset returns.\n",
    "\n",
    "    Returns:\n",
    "        list: Optimal weights for the GMV portfolio.\n",
    "    \"\"\"\n",
    "    # Objective function: annualized portfolio volatility\n",
    "    def find_port_variance(weights):\n",
    "        cov = ret.cov()\n",
    "        port_var = np.sqrt(np.dot(weights.T, np.dot(cov, weights)) * 12)\n",
    "        return port_var\n",
    "    \n",
    "    # Constraint: weights must sum to 1\n",
    "    def weight_cons(weights):\n",
    "        return np.sum(weights) - 1\n",
    "\n",
    "    # Bounds: no short-selling\n",
    "    bounds_lim = [(0, 1) for x in range(len(ret.columns))]\n",
    "    # Initial guess: equal-weighted\n",
    "    init = [1/len(ret.columns) for i in range(len(ret.columns))]\n",
    "    # Constraint list\n",
    "    constraint = {'type': 'eq', 'fun': weight_cons}\n",
    "    # Optimization\n",
    "    optimal = minimize(fun=find_port_variance,\n",
    "                       x0=init,\n",
    "                       bounds=bounds_lim,\n",
    "                       constraints=constraint,\n",
    "                       method='SLSQP'\n",
    "                       )\n",
    "\n",
    "    return list(optimal['x'])"
   ]
  },
  {
   "cell_type": "markdown",
   "metadata": {},
   "source": [
    "**Q4.0 From the data that we used for the previous assignment, select the\n",
    "following 10 companies**"
   ]
  },
  {
   "cell_type": "markdown",
   "metadata": {},
   "source": [
    "Let's import the stocks prices of SP500 companies"
   ]
  },
  {
   "cell_type": "code",
   "execution_count": 4,
   "metadata": {},
   "outputs": [],
   "source": [
    "URL = 'https://en.wikipedia.org/wiki/List_of_S%26P_500_companies'"
   ]
  },
  {
   "cell_type": "code",
   "execution_count": 5,
   "metadata": {},
   "outputs": [
    {
     "name": "stderr",
     "output_type": "stream",
     "text": [
      "/var/folders/lr/7kzpljcn0zl52pt8zpscgfj40000gn/T/ipykernel_13041/305190281.py:28: FutureWarning: YF.download() has changed argument auto_adjust default to True\n",
      "  return yf.download(list_underlying,interval=\"1d\",start=startd,end=endd)\n",
      "[*********************100%***********************]  502 of 502 completed\n",
      "\n",
      "7 Failed downloads:\n",
      "['VLTO', 'SW', 'GEV', 'KVUE', 'SOLV']: YFPricesMissingError('possibly delisted; no price data found  (1d 2000-01-01 -> 2022-12-31) (Yahoo error = \"Data doesn\\'t exist for startDate = 946702800, endDate = 1672462800\")')\n",
      "['BF.B']: YFPricesMissingError('possibly delisted; no price data found  (1d 2000-01-01 -> 2022-12-31)')\n",
      "['BRK.B']: YFTzMissingError('possibly delisted; no timezone found')\n"
     ]
    }
   ],
   "source": [
    "'''\n",
    "Assign value to parameters\n",
    "'''\n",
    "tickers = pd.read_html(URL)[0]['Symbol'].tolist()\n",
    "start_date = \"2000-01-01\"\n",
    "end_date = \"2022-12-31\"\n",
    "raw_market_data=get_multi_timeseries(tickers,start_date,end_date)\n",
    "close_price_data = raw_market_data.xs(\"Close\",axis = 1) #Extract the Close price for each tickers.\n",
    "close_price_data.index = pd.to_datetime(close_price_data.index, format = '%Y/%m/%d') #Change index format from Timestamp to DateTime"
   ]
  },
  {
   "cell_type": "markdown",
   "metadata": {},
   "source": [
    "Let's clean the historical prices keeping only the ones from 2000-01-01 to 2022-12-31 for companies with enough data"
   ]
  },
  {
   "cell_type": "code",
   "execution_count": 6,
   "metadata": {},
   "outputs": [
    {
     "data": {
      "text/html": [
       "<div>\n",
       "<style scoped>\n",
       "    .dataframe tbody tr th:only-of-type {\n",
       "        vertical-align: middle;\n",
       "    }\n",
       "\n",
       "    .dataframe tbody tr th {\n",
       "        vertical-align: top;\n",
       "    }\n",
       "\n",
       "    .dataframe thead th {\n",
       "        text-align: right;\n",
       "    }\n",
       "</style>\n",
       "<table border=\"1\" class=\"dataframe\">\n",
       "  <thead>\n",
       "    <tr style=\"text-align: right;\">\n",
       "      <th>Ticker</th>\n",
       "      <th>A</th>\n",
       "      <th>AAPL</th>\n",
       "      <th>ABT</th>\n",
       "      <th>ACGL</th>\n",
       "      <th>ADBE</th>\n",
       "      <th>ADI</th>\n",
       "      <th>ADM</th>\n",
       "      <th>ADP</th>\n",
       "      <th>ADSK</th>\n",
       "      <th>AEE</th>\n",
       "      <th>...</th>\n",
       "      <th>WMB</th>\n",
       "      <th>WMT</th>\n",
       "      <th>WRB</th>\n",
       "      <th>WSM</th>\n",
       "      <th>WST</th>\n",
       "      <th>WY</th>\n",
       "      <th>XEL</th>\n",
       "      <th>XOM</th>\n",
       "      <th>YUM</th>\n",
       "      <th>ZBRA</th>\n",
       "    </tr>\n",
       "  </thead>\n",
       "  <tbody>\n",
       "    <tr>\n",
       "      <th>count</th>\n",
       "      <td>5787.000000</td>\n",
       "      <td>5787.000000</td>\n",
       "      <td>5787.000000</td>\n",
       "      <td>5787.000000</td>\n",
       "      <td>5787.000000</td>\n",
       "      <td>5787.000000</td>\n",
       "      <td>5787.000000</td>\n",
       "      <td>5787.000000</td>\n",
       "      <td>5787.000000</td>\n",
       "      <td>5787.000000</td>\n",
       "      <td>...</td>\n",
       "      <td>5787.000000</td>\n",
       "      <td>5787.000000</td>\n",
       "      <td>5787.000000</td>\n",
       "      <td>5787.000000</td>\n",
       "      <td>5787.000000</td>\n",
       "      <td>5787.000000</td>\n",
       "      <td>5787.000000</td>\n",
       "      <td>5787.000000</td>\n",
       "      <td>5787.000000</td>\n",
       "      <td>5787.000000</td>\n",
       "    </tr>\n",
       "    <tr>\n",
       "      <th>mean</th>\n",
       "      <td>41.962047</td>\n",
       "      <td>28.402888</td>\n",
       "      <td>35.124440</td>\n",
       "      <td>15.822778</td>\n",
       "      <td>117.181149</td>\n",
       "      <td>50.227273</td>\n",
       "      <td>26.065057</td>\n",
       "      <td>62.980588</td>\n",
       "      <td>71.852418</td>\n",
       "      <td>32.123512</td>\n",
       "      <td>...</td>\n",
       "      <td>13.643675</td>\n",
       "      <td>19.643270</td>\n",
       "      <td>11.615153</td>\n",
       "      <td>20.327085</td>\n",
       "      <td>68.789311</td>\n",
       "      <td>16.454026</td>\n",
       "      <td>23.368829</td>\n",
       "      <td>42.942787</td>\n",
       "      <td>40.024357</td>\n",
       "      <td>99.453604</td>\n",
       "    </tr>\n",
       "    <tr>\n",
       "      <th>std</th>\n",
       "      <td>35.573140</td>\n",
       "      <td>42.483030</td>\n",
       "      <td>30.684548</td>\n",
       "      <td>12.991039</td>\n",
       "      <td>152.396637</td>\n",
       "      <td>40.380351</td>\n",
       "      <td>16.503054</td>\n",
       "      <td>56.485868</td>\n",
       "      <td>77.145966</td>\n",
       "      <td>20.386817</td>\n",
       "      <td>...</td>\n",
       "      <td>7.418506</td>\n",
       "      <td>10.889359</td>\n",
       "      <td>10.183526</td>\n",
       "      <td>18.089442</td>\n",
       "      <td>99.831149</td>\n",
       "      <td>7.305811</td>\n",
       "      <td>17.906286</td>\n",
       "      <td>16.940730</td>\n",
       "      <td>33.988455</td>\n",
       "      <td>124.255846</td>\n",
       "    </tr>\n",
       "    <tr>\n",
       "      <th>min</th>\n",
       "      <td>6.509984</td>\n",
       "      <td>0.197156</td>\n",
       "      <td>6.980703</td>\n",
       "      <td>1.208433</td>\n",
       "      <td>8.317787</td>\n",
       "      <td>10.716372</td>\n",
       "      <td>4.512144</td>\n",
       "      <td>13.011336</td>\n",
       "      <td>4.834495</td>\n",
       "      <td>8.951228</td>\n",
       "      <td>...</td>\n",
       "      <td>0.296817</td>\n",
       "      <td>9.271348</td>\n",
       "      <td>0.569756</td>\n",
       "      <td>1.586850</td>\n",
       "      <td>3.241057</td>\n",
       "      <td>4.141687</td>\n",
       "      <td>2.320535</td>\n",
       "      <td>14.346547</td>\n",
       "      <td>2.907504</td>\n",
       "      <td>15.194444</td>\n",
       "    </tr>\n",
       "    <tr>\n",
       "      <th>25%</th>\n",
       "      <td>19.106953</td>\n",
       "      <td>1.573487</td>\n",
       "      <td>13.719811</td>\n",
       "      <td>5.008594</td>\n",
       "      <td>28.400000</td>\n",
       "      <td>22.840282</td>\n",
       "      <td>14.718868</td>\n",
       "      <td>23.526144</td>\n",
       "      <td>24.179016</td>\n",
       "      <td>17.186456</td>\n",
       "      <td>...</td>\n",
       "      <td>7.839882</td>\n",
       "      <td>11.668126</td>\n",
       "      <td>4.892213</td>\n",
       "      <td>9.228344</td>\n",
       "      <td>11.626058</td>\n",
       "      <td>10.360281</td>\n",
       "      <td>10.087437</td>\n",
       "      <td>30.062745</td>\n",
       "      <td>12.205128</td>\n",
       "      <td>31.800000</td>\n",
       "    </tr>\n",
       "    <tr>\n",
       "      <th>50%</th>\n",
       "      <td>27.257694</td>\n",
       "      <td>10.735357</td>\n",
       "      <td>19.039417</td>\n",
       "      <td>10.491580</td>\n",
       "      <td>38.919998</td>\n",
       "      <td>30.191591</td>\n",
       "      <td>22.724077</td>\n",
       "      <td>32.672619</td>\n",
       "      <td>39.939999</td>\n",
       "      <td>23.462345</td>\n",
       "      <td>...</td>\n",
       "      <td>12.569791</td>\n",
       "      <td>13.738816</td>\n",
       "      <td>7.516781</td>\n",
       "      <td>13.469359</td>\n",
       "      <td>20.533581</td>\n",
       "      <td>14.003805</td>\n",
       "      <td>15.159497</td>\n",
       "      <td>45.617680</td>\n",
       "      <td>29.157364</td>\n",
       "      <td>44.099998</td>\n",
       "    </tr>\n",
       "    <tr>\n",
       "      <th>75%</th>\n",
       "      <td>55.511929</td>\n",
       "      <td>32.897118</td>\n",
       "      <td>40.576530</td>\n",
       "      <td>25.664752</td>\n",
       "      <td>129.599998</td>\n",
       "      <td>67.178616</td>\n",
       "      <td>34.316521</td>\n",
       "      <td>85.836784</td>\n",
       "      <td>86.475002</td>\n",
       "      <td>43.017187</td>\n",
       "      <td>...</td>\n",
       "      <td>18.630046</td>\n",
       "      <td>22.772503</td>\n",
       "      <td>16.683714</td>\n",
       "      <td>24.616419</td>\n",
       "      <td>82.448322</td>\n",
       "      <td>21.824926</td>\n",
       "      <td>34.278751</td>\n",
       "      <td>55.169380</td>\n",
       "      <td>56.610817</td>\n",
       "      <td>101.654999</td>\n",
       "    </tr>\n",
       "    <tr>\n",
       "      <th>max</th>\n",
       "      <td>174.417160</td>\n",
       "      <td>178.645645</td>\n",
       "      <td>132.416656</td>\n",
       "      <td>60.496162</td>\n",
       "      <td>688.369995</td>\n",
       "      <td>176.538544</td>\n",
       "      <td>90.189819</td>\n",
       "      <td>254.354340</td>\n",
       "      <td>342.269989</td>\n",
       "      <td>89.207031</td>\n",
       "      <td>...</td>\n",
       "      <td>34.033939</td>\n",
       "      <td>50.998806</td>\n",
       "      <td>47.730026</td>\n",
       "      <td>103.032516</td>\n",
       "      <td>467.231873</td>\n",
       "      <td>37.775898</td>\n",
       "      <td>69.950798</td>\n",
       "      <td>104.856056</td>\n",
       "      <td>129.862152</td>\n",
       "      <td>614.549988</td>\n",
       "    </tr>\n",
       "  </tbody>\n",
       "</table>\n",
       "<p>8 rows × 355 columns</p>\n",
       "</div>"
      ],
      "text/plain": [
       "Ticker            A         AAPL          ABT         ACGL         ADBE  \\\n",
       "count   5787.000000  5787.000000  5787.000000  5787.000000  5787.000000   \n",
       "mean      41.962047    28.402888    35.124440    15.822778   117.181149   \n",
       "std       35.573140    42.483030    30.684548    12.991039   152.396637   \n",
       "min        6.509984     0.197156     6.980703     1.208433     8.317787   \n",
       "25%       19.106953     1.573487    13.719811     5.008594    28.400000   \n",
       "50%       27.257694    10.735357    19.039417    10.491580    38.919998   \n",
       "75%       55.511929    32.897118    40.576530    25.664752   129.599998   \n",
       "max      174.417160   178.645645   132.416656    60.496162   688.369995   \n",
       "\n",
       "Ticker          ADI          ADM          ADP         ADSK          AEE  ...  \\\n",
       "count   5787.000000  5787.000000  5787.000000  5787.000000  5787.000000  ...   \n",
       "mean      50.227273    26.065057    62.980588    71.852418    32.123512  ...   \n",
       "std       40.380351    16.503054    56.485868    77.145966    20.386817  ...   \n",
       "min       10.716372     4.512144    13.011336     4.834495     8.951228  ...   \n",
       "25%       22.840282    14.718868    23.526144    24.179016    17.186456  ...   \n",
       "50%       30.191591    22.724077    32.672619    39.939999    23.462345  ...   \n",
       "75%       67.178616    34.316521    85.836784    86.475002    43.017187  ...   \n",
       "max      176.538544    90.189819   254.354340   342.269989    89.207031  ...   \n",
       "\n",
       "Ticker          WMB          WMT          WRB          WSM          WST  \\\n",
       "count   5787.000000  5787.000000  5787.000000  5787.000000  5787.000000   \n",
       "mean      13.643675    19.643270    11.615153    20.327085    68.789311   \n",
       "std        7.418506    10.889359    10.183526    18.089442    99.831149   \n",
       "min        0.296817     9.271348     0.569756     1.586850     3.241057   \n",
       "25%        7.839882    11.668126     4.892213     9.228344    11.626058   \n",
       "50%       12.569791    13.738816     7.516781    13.469359    20.533581   \n",
       "75%       18.630046    22.772503    16.683714    24.616419    82.448322   \n",
       "max       34.033939    50.998806    47.730026   103.032516   467.231873   \n",
       "\n",
       "Ticker           WY          XEL          XOM          YUM         ZBRA  \n",
       "count   5787.000000  5787.000000  5787.000000  5787.000000  5787.000000  \n",
       "mean      16.454026    23.368829    42.942787    40.024357    99.453604  \n",
       "std        7.305811    17.906286    16.940730    33.988455   124.255846  \n",
       "min        4.141687     2.320535    14.346547     2.907504    15.194444  \n",
       "25%       10.360281    10.087437    30.062745    12.205128    31.800000  \n",
       "50%       14.003805    15.159497    45.617680    29.157364    44.099998  \n",
       "75%       21.824926    34.278751    55.169380    56.610817   101.654999  \n",
       "max       37.775898    69.950798   104.856056   129.862152   614.549988  \n",
       "\n",
       "[8 rows x 355 columns]"
      ]
     },
     "execution_count": 6,
     "metadata": {},
     "output_type": "execute_result"
    }
   ],
   "source": [
    "close_price_focus = close_price_data.dropna(axis = 1, how = \"all\") #drop the columns with only NaN entries\n",
    "mask = (close_price_focus.isna().sum() <= 100) # drop the company names that have more than 100 missing observations\n",
    "close_price_focus = close_price_focus.loc[:,mask]\n",
    "close_price_focus.describe()"
   ]
  },
  {
   "cell_type": "code",
   "execution_count": 7,
   "metadata": {
    "tags": []
   },
   "outputs": [],
   "source": [
    "#Select the stocks we are interested in and transform them into monthly returns\n",
    "monthly_ret=close_price_focus.loc[:,[\"MMM\",\"AOS\",\"ABT\",\"ADM\",\"ADBE\",\"ADP\",\"AES\",\"AFL\",\"A\",\"AKAM\"]].resample('M').last().pct_change()"
   ]
  },
  {
   "cell_type": "markdown",
   "metadata": {},
   "source": [
    "**Q4.1 Choose the estimation window to be Test = 60 months of monthly returns. Call this the estimation sample. Use the estimation sample to compute the following two portfolio strategies:**"
   ]
  },
  {
   "cell_type": "code",
   "execution_count": 8,
   "metadata": {},
   "outputs": [],
   "source": [
    "samples=monthly_ret.iloc[:,:60]\n",
    "expected_returns,cov_matrix=expected_ret_cov(samples)"
   ]
  },
  {
   "cell_type": "markdown",
   "metadata": {},
   "source": [
    "**Mean-Variance portfolio**"
   ]
  },
  {
   "cell_type": "code",
   "execution_count": 9,
   "metadata": {},
   "outputs": [],
   "source": [
    "return_wanted = 0.06\n",
    "w_mvp=calculate_mvp_portfolio(samples,0.15)"
   ]
  },
  {
   "cell_type": "markdown",
   "metadata": {},
   "source": [
    "**Global Mininimum Variance portfolio**"
   ]
  },
  {
   "cell_type": "code",
   "execution_count": 10,
   "metadata": {},
   "outputs": [
    {
     "name": "stdout",
     "output_type": "stream",
     "text": [
      "[0.23143224082739092, 0.025562213538467063, 0.3786812670479588, 0.10288681671647348, 0.0, 0.22224138065011118, 0.001722041917287421, 0.027063887000814343, 5.854691731421724e-18, 0.010410152301496963]\n"
     ]
    }
   ],
   "source": [
    "w_gmv=calculate_gmv_portfolio(samples)\n",
    "print(w_gmv)"
   ]
  },
  {
   "cell_type": "code",
   "execution_count": 11,
   "metadata": {},
   "outputs": [
    {
     "data": {
      "text/plain": [
       "0.010459812682584647"
      ]
     },
     "execution_count": 11,
     "metadata": {},
     "output_type": "execute_result"
    }
   ],
   "source": [
    "np.dot(samples.mean().values, w_gmv)\n",
    "#samples.mean().values\n",
    "#w_gmv"
   ]
  },
  {
   "cell_type": "markdown",
   "metadata": {},
   "source": [
    "Comparison of weights for both strategies"
   ]
  },
  {
   "cell_type": "code",
   "execution_count": 12,
   "metadata": {},
   "outputs": [
    {
     "name": "stdout",
     "output_type": "stream",
     "text": [
      "            MVP           GMV\n",
      "0  5.438065e-16  2.314322e-01\n",
      "1  4.555357e-11  2.556221e-02\n",
      "2  1.133303e-16  3.786813e-01\n",
      "3  6.497619e-15  1.028868e-01\n",
      "4  1.000000e+00  0.000000e+00\n",
      "5  2.085554e-15  2.222414e-01\n",
      "6  2.690130e-16  1.722042e-03\n",
      "7  5.978771e-15  2.706389e-02\n",
      "8  2.024213e-16  5.854692e-18\n",
      "9  8.214038e-15  1.041015e-02\n",
      "total weight MVP    1.0\n",
      "GMV    1.0\n",
      "dtype: float64\n"
     ]
    }
   ],
   "source": [
    "w=pd.concat([pd.DataFrame(w_mvp),pd.DataFrame(w_gmv)],axis=1)\n",
    "w.columns=['MVP','GMV']\n",
    "print(w)\n",
    "print(f\"total weight {w.sum()}\")"
   ]
  },
  {
   "cell_type": "markdown",
   "metadata": {},
   "source": [
    "**Q4.2 Now use a rolling window of Test = 60 months to estimate the portfolio weights for the two strategies listed above for each of the T − Test months. That is, repeat the calculations of the previous question for all the dates after the first 60 months**"
   ]
  },
  {
   "cell_type": "code",
   "execution_count": 13,
   "metadata": {},
   "outputs": [],
   "source": [
    "#loop for each periods\n",
    "w_mvp_df=pd.DataFrame(index=monthly_ret.index,columns=monthly_ret.columns)\n",
    "w_gmv_df=pd.DataFrame(index=monthly_ret.index,columns=monthly_ret.columns)\n",
    "\n",
    "for k in range(60,len(monthly_ret.index)):\n",
    "    expected_returns,cov_matrix=expected_ret_cov(monthly_ret.iloc[k-60:k])\n",
    "    w_mvp_df.iloc[k]=calculate_mvp_portfolio(monthly_ret.iloc[k-60:k], 0.15)\n",
    "    w_gmv_df.iloc[k]=calculate_gmv_portfolio(monthly_ret.iloc[k-60:k])"
   ]
  },
  {
   "cell_type": "code",
   "execution_count": 14,
   "metadata": {},
   "outputs": [
    {
     "data": {
      "text/plain": [
       "<Axes: xlabel='Date'>"
      ]
     },
     "execution_count": 14,
     "metadata": {},
     "output_type": "execute_result"
    },
    {
     "data": {
      "image/png": "[encoded data removed]",
      "text/plain": [
       "<Figure size 640x480 with 1 Axes>"
      ]
     },
     "metadata": {},
     "output_type": "display_data"
    }
   ],
   "source": [
    "w_mvp_df.sum(axis=1).plot(label=\"MVP leverage\", c='r')\n",
    "w_gmv_df.sum(axis=1).plot(label=\"GMV leverage\", c='k')"
   ]
  },
  {
   "cell_type": "markdown",
   "metadata": {},
   "source": [
    "**Q4.3 Use the time-series of portfolios weights for each of the two portfolio\n",
    "strategies, to compute the out-of-sample portfolio returns. That is, for\n",
    "each of the two portfolio strategies that you estimate at each date t,\n",
    "compute its out-of-sample return in month t + 1.**"
   ]
  },
  {
   "cell_type": "code",
   "execution_count": 15,
   "metadata": {
    "scrolled": true
   },
   "outputs": [],
   "source": [
    "#We shift the weigths to t-1 and apply them to the returns made in period t.\n",
    "gmv_pfo_rets=(w_gmv_df.shift(1)*monthly_ret).sum(axis=1)\n",
    "mvp_pfo_rets=(w_mvp_df.shift(1)*monthly_ret).sum(axis=1)"
   ]
  },
  {
   "cell_type": "code",
   "execution_count": 16,
   "metadata": {
    "scrolled": false
   },
   "outputs": [
    {
     "data": {
      "text/plain": [
       "Text(0.5, 1.0, 'Global Minimum Variance Portfolio')"
      ]
     },
     "execution_count": 16,
     "metadata": {},
     "output_type": "execute_result"
    },
    {
     "data": {
      "image/png": "[encoded data removed]",
      "text/plain": [
       "<Figure size 640x480 with 1 Axes>"
      ]
     },
     "metadata": {},
     "output_type": "display_data"
    }
   ],
   "source": [
    "#Plot of the investment result for the Global Minimum Variance Portfolio.\n",
    "((gmv_pfo_rets+1).cumprod()-1).plot()\n",
    "plt.title(\"Global Minimum Variance Portfolio\")"
   ]
  },
  {
   "cell_type": "code",
   "execution_count": 17,
   "metadata": {},
   "outputs": [
    {
     "data": {
      "text/plain": [
       "Text(0.5, 1.0, 'Mean Variance Portfolio')"
      ]
     },
     "execution_count": 17,
     "metadata": {},
     "output_type": "execute_result"
    },
    {
     "data": {
      "image/png": "[encoded data removed]",
      "text/plain": [
       "<Figure size 640x480 with 1 Axes>"
      ]
     },
     "metadata": {},
     "output_type": "display_data"
    }
   ],
   "source": [
    "##Plot of the investment result for the Mean-Variance Portfolio.\n",
    "((mvp_pfo_rets+1).cumprod()-1).plot()\n",
    "plt.title(\"Mean Variance Portfolio\")"
   ]
  },
  {
   "cell_type": "markdown",
   "metadata": {},
   "source": [
    "**Q4.4 Now, compute the Sharpe ratio of the out-of-sample returns for the two\n",
    "portfolio strategies. Which strategy has the higher Sharpe ratio?**"
   ]
  },
  {
   "cell_type": "code",
   "execution_count": 18,
   "metadata": {},
   "outputs": [
    {
     "name": "stdout",
     "output_type": "stream",
     "text": [
      "GMV SR : 3.4265482145926502\n",
      "MVP SR : 2.511753796377351\n"
     ]
    }
   ],
   "source": [
    "print(f\"GMV SR : {sharpe_ratio(gmv_pfo_rets)}\")\n",
    "print(f\"MVP SR : {sharpe_ratio(mvp_pfo_rets)}\")"
   ]
  },
  {
   "cell_type": "markdown",
   "metadata": {},
   "source": [
    "The strategy with higher Sharpe Ratio is the one based on Global Minimum Variance."
   ]
  },
  {
   "cell_type": "markdown",
   "metadata": {},
   "source": [
    "We save the data for next time"
   ]
  },
  {
   "cell_type": "code",
   "execution_count": 19,
   "metadata": {
    "tags": []
   },
   "outputs": [],
   "source": [
    "monthly_ret.to_csv(\"monthly_ret.csv\")"
   ]
  }
 ],
 "metadata": {
  "kernelspec": {
   "display_name": "empirical_methods",
   "language": "python",
   "name": "python3"
  },
  "language_info": {
   "codemirror_mode": {
    "name": "ipython",
    "version": 3
   },
   "file_extension": ".py",
   "mimetype": "text/x-python",
   "name": "python",
   "nbconvert_exporter": "python",
   "pygments_lexer": "ipython3",
   "version": "3.9.18"
  }
 },
 "nbformat": 4,
 "nbformat_minor": 4
}
