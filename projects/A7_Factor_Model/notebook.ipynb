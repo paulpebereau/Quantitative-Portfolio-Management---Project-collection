{
 "cells": [
  {
   "cell_type": "markdown",
   "metadata": {},
   "source": [
    "# QPM : Assignement 7"
   ]
  },
  {
   "cell_type": "markdown",
   "metadata": {},
   "source": [
    "## Librairies"
   ]
  },
  {
   "cell_type": "code",
   "execution_count": 1,
   "metadata": {},
   "outputs": [],
   "source": [
    "import numpy as np\n",
    "import pandas as pd\n",
    "from scipy.optimize import minimize"
   ]
  },
  {
   "cell_type": "markdown",
   "metadata": {},
   "source": [
    "## Functions"
   ]
  },
  {
   "cell_type": "code",
   "execution_count": 2,
   "metadata": {},
   "outputs": [],
   "source": [
    "'''\n",
    "Function: annual_mean_returns ; annual_volatility ; sharpe_ratio\n",
    "\n",
    "Returns the annual mean, return and sharpe ratio of each stocks.\n",
    "\n",
    "Input: - df: DataFrame (float) ; DataFrame of time series of close price of each stocks.\n",
    "\n",
    "Output: DataFrame (float) ; 1 column, indexed by the stocks tickers.\n",
    "'''\n",
    "\n",
    "def annual_mean_return(df) :\n",
    "    return df.mean() * 12\n",
    "\n",
    "def annual_volatility(df) :\n",
    "    return df.std() * np.sqrt(12)\n",
    "\n",
    "def sharpe_ratio(df) :\n",
    "    return annual_mean_return(df) / annual_volatility(df)"
   ]
  },
  {
   "cell_type": "code",
   "execution_count": 3,
   "metadata": {},
   "outputs": [],
   "source": [
    "def objective(weights, mean_returns, cov_matrix, gamma):\n",
    "    \"\"\"\n",
    "    Objective function, which we want to minimize in order to build an optimal allocation.\n",
    "    Input: \n",
    "        - weights: list (floats), initial weights for the allocation ;\n",
    "        - mean_returns: list (floats), mean returns of each factor ;\n",
    "        - cov_matrix: ndarray (floats), covariance matrix of the factors returns ;\n",
    "        - gamma: float, risk aversion.\n",
    "\n",
    "    Output: utility: float, value of the utility function given the arguments.\n",
    "    \"\"\"\n",
    "    complete_weights = np.concatenate([[1],weights])\n",
    "    portfolio_return = np.dot(complete_weights, mean_returns)\n",
    "    portfolio_volatility = np.sqrt(np.dot(complete_weights.T, np.dot(cov_matrix, complete_weights)))\n",
    "    utility = portfolio_return - 0.5 * gamma * portfolio_volatility ** 2\n",
    "    return -utility"
   ]
  },
  {
   "cell_type": "markdown",
   "metadata": {},
   "source": [
    "**Q7.1 Explain why one might expect these nine factors to be related to stock\n",
    "returns.**"
   ]
  },
  {
   "cell_type": "markdown",
   "metadata": {},
   "source": [
    "**Market**\n",
    "The Market factor, often represented by the return of a broad market index such as the S&P 500, is considered relevant to stock returns because it captures systematic risk associated with overall market movements, influencing the performance of individual stocks as they tend to respond to broader market trends and economic conditions.\n",
    "\n",
    "**SMB**\n",
    "The SMB (Small Minus Big) factor is relevant to stock returns because it reflects the historical excess returns of small-cap stocks over large-cap stocks, indicating that smaller companies have exhibited a tendency to outperform their larger counterparts, potentially due to risk factors associated with size and market conditions.\n",
    "\n",
    "**HML**\n",
    "The HML (High Minus Low) factor is pertinent to stock returns as it captures the historical performance difference between portfolios of stocks with high book-to-market ratios (value stocks) and low book-to-market ratios (growth stocks), suggesting that value stocks have demonstrated a tendency to outperform growth stocks over time, potentially due to risk and market mispricing factors.\n",
    "\n",
    "**RMW**\n",
    "The RMW (Robust Minus Weak) factor is relevant to stock returns as it represents the historical performance gap between firms with robust profitability and those with weak profitability. This factor suggests that stocks of companies with stronger profitability have exhibited a tendency to outperform those with weaker profitability, indicating the significance of profitability as a factor influencing stock returns.\n",
    "\n",
    "**CMA**\n",
    "The CMA (Conservative Minus Aggressive) factor is pertinent to stock returns as it reflects the historical performance difference between companies with conservative accounting practices and those with aggressive accounting practices. This factor suggests that stocks of companies with conservative accounting methods have shown a tendency to outperform those with aggressive practices, indicating the impact of accounting conservatism on stock returns.\n",
    "\n",
    "**UMD** \n",
    "The UMD (Up-minus-Down) factor is relevant to stock returns as it represents the historical performance spread between past winners and past losers, indicating that stocks with strong recent performance (winners) have tended to continue outperforming stocks with weak recent performance (losers), reflecting the presence of short-term momentum effects in the market.\n",
    "\n",
    "**ROE** \n",
    "The ROE (Return on Equity) factor is relevant to stock returns as it reflects the historical performance difference between companies with high and low returns on equity. This factor suggests that stocks of companies with higher ROE have demonstrated a tendency to outperform stocks of companies with lower ROE, indicating the importance of profitability metrics in influencing stock returns.\n",
    "\n",
    "**IA**\n",
    "The investment factor is relevant to stock returns because it captures the historical performance difference between companies that invest conservatively (low investment) and those that invest more aggressively (high investment). This factor suggests that stocks of companies with lower levels of investment relative to their assets have tended to outperform stocks of companies with higher investment levels, indicating a link between investment strategies and stock returns.\n",
    "\n",
    "**BAB**\n",
    "The betting-against-beta (BAB) factor is relevant to stock returns as it reflects the historical performance difference between portfolios of stocks with low and high market beta. This factor suggests that, contrary to the Capital Asset Pricing Model (CAPM), low-beta stocks have exhibited a tendency to outperform high-beta stocks, indicating a phenomenon where investors may receive higher returns by betting against beta."
   ]
  },
  {
   "cell_type": "markdown",
   "metadata": {},
   "source": [
    "**Q7.2 Find the optimal θ vector for a mean-variance investor with risk aversion of γ = 5 if the investor can invest in only these nine factors**  \n",
    "Let's import the data of the nine factors"
   ]
  },
  {
   "cell_type": "code",
   "execution_count": null,
   "metadata": {
    "tags": []
   },
   "outputs": [
    {
     "name": "stdout",
     "output_type": "stream",
     "text": [
      "<class 'pandas.core.frame.DataFrame'>\n",
      "DatetimeIndex: 647 entries, 1967-02-01 to 2020-12-01\n",
      "Data columns (total 9 columns):\n",
      " #   Column  Non-Null Count  Dtype  \n",
      "---  ------  --------------  -----  \n",
      " 0   Market  647 non-null    float64\n",
      " 1   SMB     647 non-null    float64\n",
      " 2   HML     647 non-null    float64\n",
      " 3   RMW     647 non-null    float64\n",
      " 4   CMA     647 non-null    float64\n",
      " 5   UMD     647 non-null    float64\n",
      " 6   ROE     647 non-null    float64\n",
      " 7   IA      647 non-null    float64\n",
      " 8   BAB     647 non-null    float64\n",
      "dtypes: float64(9)\n",
      "memory usage: 50.5 KB\n"
     ]
    },
    {
     "name": "stderr",
     "output_type": "stream",
     "text": [
      "/var/folders/lr/7kzpljcn0zl52pt8zpscgfj40000gn/T/ipykernel_5720/1865887156.py:1: UserWarning: Could not infer format, so each element will be parsed individually, falling back to `dateutil`. To ensure parsing is consistent and as-expected, please specify a format.\n",
      "  factor_data = pd.read_excel(\"QPM-FactorsData.xlsx\", index_col = 0, parse_dates=True)\n"
     ]
    }
   ],
   "source": [
    "#Import data\n",
    "factor_data = pd.read_excel(\"QPM-FactorsData.xlsx\", index_col = 0, parse_dates=True)\n",
    "#Set index type to DateTime\n",
    "factor_data.index = pd.to_datetime(factor_data.index, format='%Y%m')\n",
    "F_factor_data = factor_data.copy()\n",
    "#The 'Market' data is used as a benchmark.\n",
    "F_factor_data.pop('Market')\n",
    "\n",
    "factor_data.info()"
   ]
  },
  {
   "cell_type": "code",
   "execution_count": 5,
   "metadata": {
    "tags": []
   },
   "outputs": [],
   "source": [
    "#Risk aversion value\n",
    "gamma = 5\n",
    "#Compute mean returns and covariance\n",
    "mean_returns = factor_data.mean()\n",
    "cov_matrix = factor_data.cov()\n",
    "mean_returns_bench = factor_data['Market'].mean()\n",
    "cov_matrix_bench = factor_data['Market'].var()\n",
    "F_mean_returns = F_factor_data.mean()\n",
    "F_cov_matrix = F_factor_data.cov()"
   ]
  },
  {
   "cell_type": "markdown",
   "metadata": {
    "tags": []
   },
   "source": [
    "We perform the optimistion to find optimal weights, defining the constraint that the sum of the weights equal 1 and assuming weights can be negative for short-selling constraints.\n",
    "We minimise the negative of the utlity to maximise the utility itself"
   ]
  },
  {
   "cell_type": "code",
   "execution_count": null,
   "metadata": {
    "tags": []
   },
   "outputs": [
    {
     "name": "stdout",
     "output_type": "stream",
     "text": [
      "[0.125 0.125 0.125 0.125 0.125 0.125 0.125 0.125]\n"
     ]
    }
   ],
   "source": [
    "#initial weights: equally-weighted portfolio.\n",
    "initial_weights = np.ones(len(F_mean_returns)) / len(F_mean_returns)\n",
    "#Change the weights so it maximizes the utility function / minimizes the objective function (= -utility)\n",
    "result = minimize(objective, initial_weights, args=(mean_returns, cov_matrix, gamma),\n",
    "                  method='SLSQP', \n",
    "                  constraints=({'type': 'eq', 'fun': lambda weights: np.sum(weights)}), #Factor pfo has a sum weight of 0. \n",
    "                  bounds=tuple((None, None) for _ in range(len(F_mean_returns))))"
   ]
  },
  {
   "cell_type": "code",
   "execution_count": 7,
   "metadata": {
    "tags": []
   },
   "outputs": [
    {
     "name": "stdout",
     "output_type": "stream",
     "text": [
      "The optimal vector for the benchmark and the 8 factors is given by:\n",
      "[ 1.         -0.80362166 -0.58679178 -1.30616889  0.05176532  0.06899556\n",
      "  0.71009105  0.6612912   1.2044392 ]\n"
     ]
    }
   ],
   "source": [
    "optimal_weights = np.concatenate([[1],result.x])\n",
    "print(\"The optimal vector for the benchmark and the 8 factors is given by:\", optimal_weights, sep = \"\\n\")"
   ]
  },
  {
   "cell_type": "markdown",
   "metadata": {
    "tags": []
   },
   "source": [
    "**Q7.3 Find the Sharpe ratio for each of the nine factors and compare it to that of the parametric portfolio you have identified in the previous question.**\n",
    "\n",
    "All factors are considered excess returns so no need to remove the risk-free rate."
   ]
  },
  {
   "cell_type": "code",
   "execution_count": 8,
   "metadata": {
    "tags": []
   },
   "outputs": [
    {
     "name": "stdout",
     "output_type": "stream",
     "text": [
      "The Sharpe ratio for the benchmark and the 8 factors is\n",
      "Market    0.432904\n",
      "SMB       0.197861\n",
      "HML       0.277910\n",
      "RMW       0.420687\n",
      "CMA       0.477857\n",
      "UMD       0.507284\n",
      "ROE       0.684304\n",
      "IA        0.626422\n",
      "BAB       0.899567\n",
      "dtype: float64\n"
     ]
    }
   ],
   "source": [
    "sharpe_ratio_factors = sharpe_ratio(factor_data)\n",
    "print(\"The Sharpe ratio for the benchmark and the 8 factors is\", sharpe_ratio_factors,sep = \"\\n\" )"
   ]
  },
  {
   "cell_type": "code",
   "execution_count": 9,
   "metadata": {
    "tags": []
   },
   "outputs": [
    {
     "name": "stdout",
     "output_type": "stream",
     "text": [
      "The Sharpe ratio of the parametric portfolio is 0.2679461669564063\n"
     ]
    }
   ],
   "source": [
    "optimal_return = np.dot(optimal_weights, mean_returns)\n",
    "optimal_volatility = np.sqrt(np.dot(optimal_weights.T, np.dot(cov_matrix, optimal_weights)))\n",
    "sharpe_ratio_parametric = optimal_return/optimal_volatility\n",
    "print(\"The Sharpe ratio of the parametric portfolio is\", sharpe_ratio_parametric)"
   ]
  },
  {
   "cell_type": "markdown",
   "metadata": {},
   "source": [
    "**Q7.4 Having obtained the optimal θ vector, please explain how one would\n",
    "obtain the optimal portfolio weights for each of the Nt = 2000 assets that\n",
    "are used to form each of the nine factors.**"
   ]
  },
  {
   "cell_type": "markdown",
   "metadata": {},
   "source": [
    "To obtain the optimal portfolio weights for each of the 2000 assets that are used to form each of the nine factors, we can use the concept of factor loadings, representing the sensitivity of an individual asset's return to changes in a particular factor. In the context of the mean-variance optimization framework, the optimal weight for an asset in the portfolio can be determined based on its factor loadings and the optimal weights for the factors.\n",
    "\n",
    "For any individual stock i, the optimal weight would be given by: (θ * Fi)/(sum of F)."
   ]
  }
 ],
 "metadata": {
  "kernelspec": {
   "display_name": "empirical_methods",
   "language": "python",
   "name": "python3"
  },
  "language_info": {
   "codemirror_mode": {
    "name": "ipython",
    "version": 3
   },
   "file_extension": ".py",
   "mimetype": "text/x-python",
   "name": "python",
   "nbconvert_exporter": "python",
   "pygments_lexer": "ipython3",
   "version": "3.9.18"
  }
 },
 "nbformat": 4,
 "nbformat_minor": 4
}
